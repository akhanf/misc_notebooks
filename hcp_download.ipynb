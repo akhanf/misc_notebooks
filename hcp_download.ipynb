{
 "cells": [
  {
   "cell_type": "markdown",
   "metadata": {},
   "source": [
    "# Remote Downloader for HCP Aspera packages\n",
    "\n",
    "This is a helper tool to download HCP aspera packages on systems which do not have browser or GUI access. You use your local machine (where you do have browser access, and aspera installed) to navigate to db.humanconnectome.org and initiate a transfer. When you do this, Aspera saves the transfer settings (including a token) to a local file. You can immediately cancel the transfer, then run this tool to initiate that same transfer on a remote system using Aspera CLI.\n",
    "\n",
    "## Instructions:\n",
    "- Step 1: In another browser window, use your local machine (i.e. where you do have browser access, and aspera installed, and running this notebook) to navigate to db.humanconnectome.org and initiate a transfer.\n",
    "- Step 2: Cancel that transfer before it begins to actually download the files.\n",
    "- Step 3: Run the cells in this notebook, which will read the Aspera transfers db (sql) and pull out the info, including download tokens\n",
    "- Step 4: You can select the transfer you want to initiate, and a Aspera CLI command will be generated that can initiate the download on a remote system where Aspera CLI is installed.\n",
    "\n",
    "\n",
    "## Dependencies:\n",
    "\n",
    "Install Aspera Connect (includes Aspera CLI) on linux (for remote system):\n",
    "```\n",
    "#install aspera connect (installs to ~/.aspera):\n",
    "wget https://download.asperasoft.com/download/sw/connect/3.9.9/ibm-aspera-connect-3.9.9.177872-linux-g2.12-64.tar.gz\n",
    "tar -xvzf ibm-aspera-connect-3.9.9.177872-linux-g2.12-64.tar.gz\n",
    "./ibm-aspera-connect-3.9.9.177872-linux-g2.12-64.sh\n",
    "```\n",
    "\n",
    "Python modules:\n",
    "- sqlite3\n",
    "- json\n",
    "- subprocess\n",
    "- os\n"
   ]
  },
  {
   "cell_type": "code",
   "execution_count": 12,
   "metadata": {},
   "outputs": [],
   "source": [
    "from sqlite3 import connect\n",
    "from json import loads\n",
    "from subprocess import run\n",
    "from os.path import expanduser,join\n",
    "\n",
    "home = expanduser(\"~\")\n",
    "\n",
    "\n",
    "#on machine where connectomedb browser transfer was initiated\n",
    "conn = connect(join(home,'.aspera/connect/var/asperaconnect.data'))\n",
    "\n",
    "\n",
    "##on destination system; if mac os X:\n",
    "#destination = join(home,'incoming_hcp')\n",
    "#key = join(home,'Applications/Aspera\\ Connect.app/Contents/Resources/asperaweb_id_dsa.openssh')\n",
    "#ascp = join(home,'Applications/Aspera\\ Connect.app/Contents/Resources/ascp')\n",
    "\n",
    "\n",
    "##destination system; if linux:\n",
    "#remotehome = '/home/akhanf'\n",
    "#destination = join(remotehome,'incoming_hcp')\n",
    "#key = join(remotehome,'.aspera/connect/etc/asperaweb_id_dsa.openssh')\n",
    "#ascp = join(remotehome,'.aspera/cli/bin/ascp')"
   ]
  },
  {
   "cell_type": "code",
   "execution_count": 13,
   "metadata": {},
   "outputs": [
    {
     "data": {
      "application/vnd.jupyter.widget-view+json": {
       "model_id": "04e3c91c91fd4ecc8e5747a14157ab5b",
       "version_major": 2,
       "version_minor": 0
      },
      "text/plain": [
       "Dropdown(description='Download:', layout=Layout(width='max-content'), options=('first file: 100610_7T_RET_2mm_…"
      ]
     },
     "metadata": {},
     "output_type": "display_data"
    }
   ],
   "source": [
    "#get entries in local aspera transfer database\n",
    "\n",
    "c = conn.cursor()\n",
    "c.execute('SELECT data FROM transfer ORDER BY data DESC')\n",
    "rows = c.fetchall()\n",
    "\n",
    "transfer_dicts = [loads(*rows[i]) for i in range(len(rows))]\n",
    "\n",
    "first_file_list = [transfer_dicts[i]['paths'][0]['source'].split('/')[-1]  for i in range(len(rows))]\n",
    "token_list = [transfer_dicts[i]['token']  for i in range(len(rows))]\n",
    "first_file_list\n",
    "nfiles_list = [len(transfer_dicts[i]['paths'])  for i in range(len(rows))]\n",
    "\n",
    "#make dropdown list options as the first file, and the number of files:\n",
    "dropdown_options = [ 'first file: {}, total files = {}'.format(first_file_list[i],nfiles_list[i]) for i in range(len(rows))]\n",
    "\n",
    "# display a widget\n",
    "import ipywidgets as widgets\n",
    "\n",
    "w = widgets.Dropdown(\n",
    "    options=dropdown_options,\n",
    "    description='Download:',\n",
    "    disabled=False,\n",
    "    layout={'width': 'max-content'}\n",
    ")\n",
    "display(w)"
   ]
  },
  {
   "cell_type": "code",
   "execution_count": 14,
   "metadata": {},
   "outputs": [
    {
     "name": "stdout",
     "output_type": "stream",
     "text": [
      "/Users/alik/Applications/Aspera\\ Connect.app/Contents/Resources/ascp -c aes-128 --mode recv -O 33001 -y 1 -t 443 --host=asp-connect1.wustl.edu --user=asperaxfer -i /Users/alik/Applications/Aspera\\ Connect.app/Contents/Resources/asperaweb_id_dsa.openssh -W ATM2_ACsFqKR2pN3M7wlPihaS4TjnwM-qW24vIKLfkayR-WerYQAW4kr8KKp5XFfLw1Y7Rtzr5X_2MTA -P 33001 packages/live/HCP_1200/100610/fix/100610_7T_RET_2mm_fix.zip packages/live/HCP_1200/100610/fix/100610_7T_RET_2mm_fix.zip.md5 packages/live/HCP_1200/102311/fix/102311_7T_RET_2mm_fix.zip packages/live/HCP_1200/102311/fix/102311_7T_RET_2mm_fix.zip.md5 packages/live/HCP_1200/102816/fix/102816_7T_RET_2mm_fix.zip packages/live/HCP_1200/102816/fix/102816_7T_RET_2mm_fix.zip.md5 packages/live/HCP_1200/104416/fix/104416_7T_RET_2mm_fix.zip packages/live/HCP_1200/104416/fix/104416_7T_RET_2mm_fix.zip.md5 packages/live/HCP_1200/105923/fix/105923_7T_RET_2mm_fix.zip packages/live/HCP_1200/105923/fix/105923_7T_RET_2mm_fix.zip.md5 packages/live/HCP_1200/108323/fix/108323_7T_RET_2mm_fix.zip packages/live/HCP_1200/108323/fix/108323_7T_RET_2mm_fix.zip.md5 packages/live/HCP_1200/109123/fix/109123_7T_RET_2mm_fix.zip packages/live/HCP_1200/109123/fix/109123_7T_RET_2mm_fix.zip.md5 packages/live/HCP_1200/111312/fix/111312_7T_RET_2mm_fix.zip packages/live/HCP_1200/111312/fix/111312_7T_RET_2mm_fix.zip.md5 packages/live/HCP_1200/111514/fix/111514_7T_RET_2mm_fix.zip packages/live/HCP_1200/111514/fix/111514_7T_RET_2mm_fix.zip.md5 packages/live/HCP_1200/114823/fix/114823_7T_RET_2mm_fix.zip packages/live/HCP_1200/114823/fix/114823_7T_RET_2mm_fix.zip.md5 packages/live/HCP_1200/115017/fix/115017_7T_RET_2mm_fix.zip packages/live/HCP_1200/115017/fix/115017_7T_RET_2mm_fix.zip.md5 packages/live/HCP_1200/115825/fix/115825_7T_RET_2mm_fix.zip packages/live/HCP_1200/115825/fix/115825_7T_RET_2mm_fix.zip.md5 packages/live/HCP_1200/116726/fix/116726_7T_RET_2mm_fix.zip packages/live/HCP_1200/116726/fix/116726_7T_RET_2mm_fix.zip.md5 packages/live/HCP_1200/118225/fix/118225_7T_RET_2mm_fix.zip packages/live/HCP_1200/118225/fix/118225_7T_RET_2mm_fix.zip.md5 packages/live/HCP_1200/125525/fix/125525_7T_RET_2mm_fix.zip packages/live/HCP_1200/125525/fix/125525_7T_RET_2mm_fix.zip.md5 packages/live/HCP_1200/126426/fix/126426_7T_RET_2mm_fix.zip packages/live/HCP_1200/126426/fix/126426_7T_RET_2mm_fix.zip.md5 packages/live/HCP_1200/126931/fix/126931_7T_RET_2mm_fix.zip packages/live/HCP_1200/126931/fix/126931_7T_RET_2mm_fix.zip.md5 packages/live/HCP_1200/128935/fix/128935_7T_RET_2mm_fix.zip packages/live/HCP_1200/128935/fix/128935_7T_RET_2mm_fix.zip.md5 packages/live/HCP_1200/130114/fix/130114_7T_RET_2mm_fix.zip packages/live/HCP_1200/130114/fix/130114_7T_RET_2mm_fix.zip.md5 packages/live/HCP_1200/130518/fix/130518_7T_RET_2mm_fix.zip packages/live/HCP_1200/130518/fix/130518_7T_RET_2mm_fix.zip.md5 packages/live/HCP_1200/131217/fix/131217_7T_RET_2mm_fix.zip packages/live/HCP_1200/131217/fix/131217_7T_RET_2mm_fix.zip.md5 packages/live/HCP_1200/131722/fix/131722_7T_RET_2mm_fix.zip packages/live/HCP_1200/131722/fix/131722_7T_RET_2mm_fix.zip.md5 packages/live/HCP_1200/132118/fix/132118_7T_RET_2mm_fix.zip packages/live/HCP_1200/132118/fix/132118_7T_RET_2mm_fix.zip.md5 packages/live/HCP_1200/134627/fix/134627_7T_RET_2mm_fix.zip packages/live/HCP_1200/134627/fix/134627_7T_RET_2mm_fix.zip.md5 packages/live/HCP_1200/134829/fix/134829_7T_RET_2mm_fix.zip packages/live/HCP_1200/134829/fix/134829_7T_RET_2mm_fix.zip.md5 packages/live/HCP_1200/135124/fix/135124_7T_RET_2mm_fix.zip packages/live/HCP_1200/135124/fix/135124_7T_RET_2mm_fix.zip.md5 packages/live/HCP_1200/137128/fix/137128_7T_RET_2mm_fix.zip packages/live/HCP_1200/137128/fix/137128_7T_RET_2mm_fix.zip.md5 packages/live/HCP_1200/140117/fix/140117_7T_RET_2mm_fix.zip packages/live/HCP_1200/140117/fix/140117_7T_RET_2mm_fix.zip.md5 packages/live/HCP_1200/144226/fix/144226_7T_RET_2mm_fix.zip packages/live/HCP_1200/144226/fix/144226_7T_RET_2mm_fix.zip.md5 packages/live/HCP_1200/145834/fix/145834_7T_RET_2mm_fix.zip packages/live/HCP_1200/145834/fix/145834_7T_RET_2mm_fix.zip.md5 packages/live/HCP_1200/146129/fix/146129_7T_RET_2mm_fix.zip packages/live/HCP_1200/146129/fix/146129_7T_RET_2mm_fix.zip.md5 packages/live/HCP_1200/146432/fix/146432_7T_RET_2mm_fix.zip packages/live/HCP_1200/146432/fix/146432_7T_RET_2mm_fix.zip.md5 packages/live/HCP_1200/146735/fix/146735_7T_RET_2mm_fix.zip packages/live/HCP_1200/146735/fix/146735_7T_RET_2mm_fix.zip.md5 packages/live/HCP_1200/146937/fix/146937_7T_RET_2mm_fix.zip packages/live/HCP_1200/146937/fix/146937_7T_RET_2mm_fix.zip.md5 packages/live/HCP_1200/148133/fix/148133_7T_RET_2mm_fix.zip packages/live/HCP_1200/148133/fix/148133_7T_RET_2mm_fix.zip.md5 packages/live/HCP_1200/150423/fix/150423_7T_RET_2mm_fix.zip packages/live/HCP_1200/150423/fix/150423_7T_RET_2mm_fix.zip.md5 packages/live/HCP_1200/155938/fix/155938_7T_RET_2mm_fix.zip packages/live/HCP_1200/155938/fix/155938_7T_RET_2mm_fix.zip.md5 packages/live/HCP_1200/156334/fix/156334_7T_RET_2mm_fix.zip packages/live/HCP_1200/156334/fix/156334_7T_RET_2mm_fix.zip.md5 packages/live/HCP_1200/157336/fix/157336_7T_RET_2mm_fix.zip packages/live/HCP_1200/157336/fix/157336_7T_RET_2mm_fix.zip.md5 packages/live/HCP_1200/158035/fix/158035_7T_RET_2mm_fix.zip packages/live/HCP_1200/158035/fix/158035_7T_RET_2mm_fix.zip.md5 packages/live/HCP_1200/158136/fix/158136_7T_RET_2mm_fix.zip packages/live/HCP_1200/158136/fix/158136_7T_RET_2mm_fix.zip.md5 packages/live/HCP_1200/159239/fix/159239_7T_RET_2mm_fix.zip packages/live/HCP_1200/159239/fix/159239_7T_RET_2mm_fix.zip.md5 packages/live/HCP_1200/162935/fix/162935_7T_RET_2mm_fix.zip packages/live/HCP_1200/162935/fix/162935_7T_RET_2mm_fix.zip.md5 packages/live/HCP_1200/164131/fix/164131_7T_RET_2mm_fix.zip packages/live/HCP_1200/164131/fix/164131_7T_RET_2mm_fix.zip.md5 packages/live/HCP_1200/164636/fix/164636_7T_RET_2mm_fix.zip packages/live/HCP_1200/164636/fix/164636_7T_RET_2mm_fix.zip.md5 packages/live/HCP_1200/165436/fix/165436_7T_RET_2mm_fix.zip packages/live/HCP_1200/165436/fix/165436_7T_RET_2mm_fix.zip.md5 packages/live/HCP_1200/167036/fix/167036_7T_RET_2mm_fix.zip packages/live/HCP_1200/167036/fix/167036_7T_RET_2mm_fix.zip.md5 packages/live/HCP_1200/167440/fix/167440_7T_RET_2mm_fix.zip packages/live/HCP_1200/167440/fix/167440_7T_RET_2mm_fix.zip.md5 packages/live/HCP_1200/169040/fix/169040_7T_RET_2mm_fix.zip packages/live/HCP_1200/169040/fix/169040_7T_RET_2mm_fix.zip.md5 packages/live/HCP_1200/169343/fix/169343_7T_RET_2mm_fix.zip packages/live/HCP_1200/169343/fix/169343_7T_RET_2mm_fix.zip.md5 packages/live/HCP_1200/169444/fix/169444_7T_RET_2mm_fix.zip packages/live/HCP_1200/169444/fix/169444_7T_RET_2mm_fix.zip.md5 packages/live/HCP_1200/169747/fix/169747_7T_RET_2mm_fix.zip packages/live/HCP_1200/169747/fix/169747_7T_RET_2mm_fix.zip.md5 packages/live/HCP_1200/171633/fix/171633_7T_RET_2mm_fix.zip packages/live/HCP_1200/171633/fix/171633_7T_RET_2mm_fix.zip.md5 packages/live/HCP_1200/172130/fix/172130_7T_RET_2mm_fix.zip packages/live/HCP_1200/172130/fix/172130_7T_RET_2mm_fix.zip.md5 packages/live/HCP_1200/173334/fix/173334_7T_RET_2mm_fix.zip packages/live/HCP_1200/173334/fix/173334_7T_RET_2mm_fix.zip.md5 packages/live/HCP_1200/175237/fix/175237_7T_RET_2mm_fix.zip packages/live/HCP_1200/175237/fix/175237_7T_RET_2mm_fix.zip.md5 packages/live/HCP_1200/176542/fix/176542_7T_RET_2mm_fix.zip packages/live/HCP_1200/176542/fix/176542_7T_RET_2mm_fix.zip.md5 packages/live/HCP_1200/177140/fix/177140_7T_RET_2mm_fix.zip packages/live/HCP_1200/177140/fix/177140_7T_RET_2mm_fix.zip.md5 packages/live/HCP_1200/177645/fix/177645_7T_RET_2mm_fix.zip packages/live/HCP_1200/177645/fix/177645_7T_RET_2mm_fix.zip.md5 packages/live/HCP_1200/177746/fix/177746_7T_RET_2mm_fix.zip packages/live/HCP_1200/177746/fix/177746_7T_RET_2mm_fix.zip.md5 packages/live/HCP_1200/178142/fix/178142_7T_RET_2mm_fix.zip packages/live/HCP_1200/178142/fix/178142_7T_RET_2mm_fix.zip.md5 packages/live/HCP_1200/178243/fix/178243_7T_RET_2mm_fix.zip packages/live/HCP_1200/178243/fix/178243_7T_RET_2mm_fix.zip.md5 packages/live/HCP_1200/178647/fix/178647_7T_RET_2mm_fix.zip packages/live/HCP_1200/178647/fix/178647_7T_RET_2mm_fix.zip.md5 packages/live/HCP_1200/180533/fix/180533_7T_RET_2mm_fix.zip packages/live/HCP_1200/180533/fix/180533_7T_RET_2mm_fix.zip.md5 packages/live/HCP_1200/181232/fix/181232_7T_RET_2mm_fix.zip packages/live/HCP_1200/181232/fix/181232_7T_RET_2mm_fix.zip.md5 packages/live/HCP_1200/181636/fix/181636_7T_RET_2mm_fix.zip packages/live/HCP_1200/181636/fix/181636_7T_RET_2mm_fix.zip.md5 packages/live/HCP_1200/182436/fix/182436_7T_RET_2mm_fix.zip packages/live/HCP_1200/182436/fix/182436_7T_RET_2mm_fix.zip.md5 packages/live/HCP_1200/182739/fix/182739_7T_RET_2mm_fix.zip packages/live/HCP_1200/182739/fix/182739_7T_RET_2mm_fix.zip.md5 packages/live/HCP_1200/185442/fix/185442_7T_RET_2mm_fix.zip packages/live/HCP_1200/185442/fix/185442_7T_RET_2mm_fix.zip.md5 packages/live/HCP_1200/186949/fix/186949_7T_RET_2mm_fix.zip packages/live/HCP_1200/186949/fix/186949_7T_RET_2mm_fix.zip.md5 packages/live/HCP_1200/187345/fix/187345_7T_RET_2mm_fix.zip packages/live/HCP_1200/187345/fix/187345_7T_RET_2mm_fix.zip.md5 packages/live/HCP_1200/191033/fix/191033_7T_RET_2mm_fix.zip packages/live/HCP_1200/191033/fix/191033_7T_RET_2mm_fix.zip.md5 packages/live/HCP_1200/191336/fix/191336_7T_RET_2mm_fix.zip packages/live/HCP_1200/191336/fix/191336_7T_RET_2mm_fix.zip.md5 packages/live/HCP_1200/191841/fix/191841_7T_RET_2mm_fix.zip packages/live/HCP_1200/191841/fix/191841_7T_RET_2mm_fix.zip.md5 packages/live/HCP_1200/192439/fix/192439_7T_RET_2mm_fix.zip packages/live/HCP_1200/192439/fix/192439_7T_RET_2mm_fix.zip.md5 packages/live/HCP_1200/192641/fix/192641_7T_RET_2mm_fix.zip packages/live/HCP_1200/192641/fix/192641_7T_RET_2mm_fix.zip.md5 packages/live/HCP_1200/193845/fix/193845_7T_RET_2mm_fix.zip packages/live/HCP_1200/193845/fix/193845_7T_RET_2mm_fix.zip.md5 packages/live/HCP_1200/195041/fix/195041_7T_RET_2mm_fix.zip packages/live/HCP_1200/195041/fix/195041_7T_RET_2mm_fix.zip.md5 packages/live/HCP_1200/196144/fix/196144_7T_RET_2mm_fix.zip packages/live/HCP_1200/196144/fix/196144_7T_RET_2mm_fix.zip.md5 packages/live/HCP_1200/197348/fix/197348_7T_RET_2mm_fix.zip packages/live/HCP_1200/197348/fix/197348_7T_RET_2mm_fix.zip.md5 packages/live/HCP_1200/198653/fix/198653_7T_RET_2mm_fix.zip packages/live/HCP_1200/198653/fix/198653_7T_RET_2mm_fix.zip.md5 packages/live/HCP_1200/199655/fix/199655_7T_RET_2mm_fix.zip packages/live/HCP_1200/199655/fix/199655_7T_RET_2mm_fix.zip.md5 packages/live/HCP_1200/200210/fix/200210_7T_RET_2mm_fix.zip packages/live/HCP_1200/200210/fix/200210_7T_RET_2mm_fix.zip.md5 packages/live/HCP_1200/200311/fix/200311_7T_RET_2mm_fix.zip packages/live/HCP_1200/200311/fix/200311_7T_RET_2mm_fix.zip.md5 packages/live/HCP_1200/200614/fix/200614_7T_RET_2mm_fix.zip packages/live/HCP_1200/200614/fix/200614_7T_RET_2mm_fix.zip.md5 packages/live/HCP_1200/201515/fix/201515_7T_RET_2mm_fix.zip packages/live/HCP_1200/201515/fix/201515_7T_RET_2mm_fix.zip.md5 packages/live/HCP_1200/203418/fix/203418_7T_RET_2mm_fix.zip packages/live/HCP_1200/203418/fix/203418_7T_RET_2mm_fix.zip.md5 packages/live/HCP_1200/204521/fix/204521_7T_RET_2mm_fix.zip packages/live/HCP_1200/204521/fix/204521_7T_RET_2mm_fix.zip.md5 packages/live/HCP_1200/205220/fix/205220_7T_RET_2mm_fix.zip packages/live/HCP_1200/205220/fix/205220_7T_RET_2mm_fix.zip.md5 packages/live/HCP_1200/209228/fix/209228_7T_RET_2mm_fix.zip packages/live/HCP_1200/209228/fix/209228_7T_RET_2mm_fix.zip.md5 packages/live/HCP_1200/212419/fix/212419_7T_RET_2mm_fix.zip packages/live/HCP_1200/212419/fix/212419_7T_RET_2mm_fix.zip.md5 packages/live/HCP_1200/214019/fix/214019_7T_RET_2mm_fix.zip packages/live/HCP_1200/214019/fix/214019_7T_RET_2mm_fix.zip.md5 packages/live/HCP_1200/214524/fix/214524_7T_RET_2mm_fix.zip packages/live/HCP_1200/214524/fix/214524_7T_RET_2mm_fix.zip.md5 packages/live/HCP_1200/221319/fix/221319_7T_RET_2mm_fix.zip packages/live/HCP_1200/221319/fix/221319_7T_RET_2mm_fix.zip.md5 packages/live/HCP_1200/233326/fix/233326_7T_RET_2mm_fix.zip packages/live/HCP_1200/233326/fix/233326_7T_RET_2mm_fix.zip.md5 packages/live/HCP_1200/239136/fix/239136_7T_RET_2mm_fix.zip packages/live/HCP_1200/239136/fix/239136_7T_RET_2mm_fix.zip.md5 packages/live/HCP_1200/246133/fix/246133_7T_RET_2mm_fix.zip packages/live/HCP_1200/246133/fix/246133_7T_RET_2mm_fix.zip.md5 packages/live/HCP_1200/249947/fix/249947_7T_RET_2mm_fix.zip packages/live/HCP_1200/249947/fix/249947_7T_RET_2mm_fix.zip.md5 packages/live/HCP_1200/251833/fix/251833_7T_RET_2mm_fix.zip packages/live/HCP_1200/251833/fix/251833_7T_RET_2mm_fix.zip.md5 packages/live/HCP_1200/257845/fix/257845_7T_RET_2mm_fix.zip packages/live/HCP_1200/257845/fix/257845_7T_RET_2mm_fix.zip.md5 packages/live/HCP_1200/263436/fix/263436_7T_RET_2mm_fix.zip packages/live/HCP_1200/263436/fix/263436_7T_RET_2mm_fix.zip.md5 packages/live/HCP_1200/283543/fix/283543_7T_RET_2mm_fix.zip packages/live/HCP_1200/283543/fix/283543_7T_RET_2mm_fix.zip.md5 packages/live/HCP_1200/318637/fix/318637_7T_RET_2mm_fix.zip packages/live/HCP_1200/318637/fix/318637_7T_RET_2mm_fix.zip.md5 packages/live/HCP_1200/320826/fix/320826_7T_RET_2mm_fix.zip packages/live/HCP_1200/320826/fix/320826_7T_RET_2mm_fix.zip.md5 packages/live/HCP_1200/330324/fix/330324_7T_RET_2mm_fix.zip packages/live/HCP_1200/330324/fix/330324_7T_RET_2mm_fix.zip.md5 packages/live/HCP_1200/346137/fix/346137_7T_RET_2mm_fix.zip packages/live/HCP_1200/346137/fix/346137_7T_RET_2mm_fix.zip.md5 packages/live/HCP_1200/352738/fix/352738_7T_RET_2mm_fix.zip packages/live/HCP_1200/352738/fix/352738_7T_RET_2mm_fix.zip.md5 packages/live/HCP_1200/360030/fix/360030_7T_RET_2mm_fix.zip packages/live/HCP_1200/360030/fix/360030_7T_RET_2mm_fix.zip.md5 packages/live/HCP_1200/365343/fix/365343_7T_RET_2mm_fix.zip packages/live/HCP_1200/365343/fix/365343_7T_RET_2mm_fix.zip.md5 packages/live/HCP_1200/380036/fix/380036_7T_RET_2mm_fix.zip packages/live/HCP_1200/380036/fix/380036_7T_RET_2mm_fix.zip.md5 packages/live/HCP_1200/381038/fix/381038_7T_RET_2mm_fix.zip packages/live/HCP_1200/381038/fix/381038_7T_RET_2mm_fix.zip.md5 packages/live/HCP_1200/385046/fix/385046_7T_RET_2mm_fix.zip packages/live/HCP_1200/385046/fix/385046_7T_RET_2mm_fix.zip.md5 packages/live/HCP_1200/389357/fix/389357_7T_RET_2mm_fix.zip packages/live/HCP_1200/389357/fix/389357_7T_RET_2mm_fix.zip.md5 packages/live/HCP_1200/393247/fix/393247_7T_RET_2mm_fix.zip packages/live/HCP_1200/393247/fix/393247_7T_RET_2mm_fix.zip.md5 packages/live/HCP_1200/395756/fix/395756_7T_RET_2mm_fix.zip packages/live/HCP_1200/395756/fix/395756_7T_RET_2mm_fix.zip.md5 packages/live/HCP_1200/397760/fix/397760_7T_RET_2mm_fix.zip packages/live/HCP_1200/397760/fix/397760_7T_RET_2mm_fix.zip.md5 packages/live/HCP_1200/401422/fix/401422_7T_RET_2mm_fix.zip packages/live/HCP_1200/401422/fix/401422_7T_RET_2mm_fix.zip.md5 packages/live/HCP_1200/406836/fix/406836_7T_RET_2mm_fix.zip packages/live/HCP_1200/406836/fix/406836_7T_RET_2mm_fix.zip.md5 packages/live/HCP_1200/412528/fix/412528_7T_RET_2mm_fix.zip packages/live/HCP_1200/412528/fix/412528_7T_RET_2mm_fix.zip.md5 packages/live/HCP_1200/429040/fix/429040_7T_RET_2mm_fix.zip packages/live/HCP_1200/429040/fix/429040_7T_RET_2mm_fix.zip.md5 packages/live/HCP_1200/436845/fix/436845_7T_RET_2mm_fix.zip packages/live/HCP_1200/436845/fix/436845_7T_RET_2mm_fix.zip.md5 packages/live/HCP_1200/463040/fix/463040_7T_RET_2mm_fix.zip packages/live/HCP_1200/463040/fix/463040_7T_RET_2mm_fix.zip.md5 packages/live/HCP_1200/467351/fix/467351_7T_RET_2mm_fix.zip packages/live/HCP_1200/467351/fix/467351_7T_RET_2mm_fix.zip.md5 packages/live/HCP_1200/525541/fix/525541_7T_RET_2mm_fix.zip packages/live/HCP_1200/525541/fix/525541_7T_RET_2mm_fix.zip.md5 packages/live/HCP_1200/536647/fix/536647_7T_RET_2mm_fix.zip packages/live/HCP_1200/536647/fix/536647_7T_RET_2mm_fix.zip.md5 packages/live/HCP_1200/541943/fix/541943_7T_RET_2mm_fix.zip packages/live/HCP_1200/541943/fix/541943_7T_RET_2mm_fix.zip.md5 packages/live/HCP_1200/547046/fix/547046_7T_RET_2mm_fix.zip packages/live/HCP_1200/547046/fix/547046_7T_RET_2mm_fix.zip.md5 packages/live/HCP_1200/550439/fix/550439_7T_RET_2mm_fix.zip packages/live/HCP_1200/550439/fix/550439_7T_RET_2mm_fix.zip.md5 packages/live/HCP_1200/552241/fix/552241_7T_RET_2mm_fix.zip packages/live/HCP_1200/552241/fix/552241_7T_RET_2mm_fix.zip.md5 packages/live/HCP_1200/562345/fix/562345_7T_RET_2mm_fix.zip packages/live/HCP_1200/562345/fix/562345_7T_RET_2mm_fix.zip.md5 packages/live/HCP_1200/572045/fix/572045_7T_RET_2mm_fix.zip packages/live/HCP_1200/572045/fix/572045_7T_RET_2mm_fix.zip.md5 packages/live/HCP_1200/573249/fix/573249_7T_RET_2mm_fix.zip packages/live/HCP_1200/573249/fix/573249_7T_RET_2mm_fix.zip.md5 packages/live/HCP_1200/581450/fix/581450_7T_RET_2mm_fix.zip packages/live/HCP_1200/581450/fix/581450_7T_RET_2mm_fix.zip.md5 packages/live/HCP_1200/585256/fix/585256_7T_RET_2mm_fix.zip packages/live/HCP_1200/585256/fix/585256_7T_RET_2mm_fix.zip.md5 packages/live/HCP_1200/601127/fix/601127_7T_RET_2mm_fix.zip packages/live/HCP_1200/601127/fix/601127_7T_RET_2mm_fix.zip.md5 packages/live/HCP_1200/617748/fix/617748_7T_RET_2mm_fix.zip packages/live/HCP_1200/617748/fix/617748_7T_RET_2mm_fix.zip.md5 packages/live/HCP_1200/627549/fix/627549_7T_RET_2mm_fix.zip packages/live/HCP_1200/627549/fix/627549_7T_RET_2mm_fix.zip.md5 packages/live/HCP_1200/638049/fix/638049_7T_RET_2mm_fix.zip packages/live/HCP_1200/638049/fix/638049_7T_RET_2mm_fix.zip.md5 packages/live/HCP_1200/644246/fix/644246_7T_RET_2mm_fix.zip packages/live/HCP_1200/644246/fix/644246_7T_RET_2mm_fix.zip.md5 packages/live/HCP_1200/654552/fix/654552_7T_RET_2mm_fix.zip packages/live/HCP_1200/654552/fix/654552_7T_RET_2mm_fix.zip.md5 packages/live/HCP_1200/671855/fix/671855_7T_RET_2mm_fix.zip packages/live/HCP_1200/671855/fix/671855_7T_RET_2mm_fix.zip.md5 packages/live/HCP_1200/680957/fix/680957_7T_RET_2mm_fix.zip packages/live/HCP_1200/680957/fix/680957_7T_RET_2mm_fix.zip.md5 packages/live/HCP_1200/690152/fix/690152_7T_RET_2mm_fix.zip packages/live/HCP_1200/690152/fix/690152_7T_RET_2mm_fix.zip.md5 packages/live/HCP_1200/706040/fix/706040_7T_RET_2mm_fix.zip packages/live/HCP_1200/706040/fix/706040_7T_RET_2mm_fix.zip.md5 packages/live/HCP_1200/724446/fix/724446_7T_RET_2mm_fix.zip packages/live/HCP_1200/724446/fix/724446_7T_RET_2mm_fix.zip.md5 packages/live/HCP_1200/725751/fix/725751_7T_RET_2mm_fix.zip packages/live/HCP_1200/725751/fix/725751_7T_RET_2mm_fix.zip.md5 packages/live/HCP_1200/732243/fix/732243_7T_RET_2mm_fix.zip packages/live/HCP_1200/732243/fix/732243_7T_RET_2mm_fix.zip.md5 packages/live/HCP_1200/745555/fix/745555_7T_RET_2mm_fix.zip packages/live/HCP_1200/745555/fix/745555_7T_RET_2mm_fix.zip.md5 packages/live/HCP_1200/751550/fix/751550_7T_RET_2mm_fix.zip packages/live/HCP_1200/751550/fix/751550_7T_RET_2mm_fix.zip.md5 packages/live/HCP_1200/757764/fix/757764_7T_RET_2mm_fix.zip packages/live/HCP_1200/757764/fix/757764_7T_RET_2mm_fix.zip.md5 packages/live/HCP_1200/765864/fix/765864_7T_RET_2mm_fix.zip packages/live/HCP_1200/765864/fix/765864_7T_RET_2mm_fix.zip.md5 packages/live/HCP_1200/770352/fix/770352_7T_RET_2mm_fix.zip packages/live/HCP_1200/770352/fix/770352_7T_RET_2mm_fix.zip.md5 packages/live/HCP_1200/771354/fix/771354_7T_RET_2mm_fix.zip packages/live/HCP_1200/771354/fix/771354_7T_RET_2mm_fix.zip.md5 packages/live/HCP_1200/782561/fix/782561_7T_RET_2mm_fix.zip packages/live/HCP_1200/782561/fix/782561_7T_RET_2mm_fix.zip.md5 packages/live/HCP_1200/783462/fix/783462_7T_RET_2mm_fix.zip packages/live/HCP_1200/783462/fix/783462_7T_RET_2mm_fix.zip.md5 packages/live/HCP_1200/789373/fix/789373_7T_RET_2mm_fix.zip packages/live/HCP_1200/789373/fix/789373_7T_RET_2mm_fix.zip.md5 packages/live/HCP_1200/814649/fix/814649_7T_RET_2mm_fix.zip packages/live/HCP_1200/814649/fix/814649_7T_RET_2mm_fix.zip.md5 packages/live/HCP_1200/818859/fix/818859_7T_RET_2mm_fix.zip packages/live/HCP_1200/818859/fix/818859_7T_RET_2mm_fix.zip.md5 packages/live/HCP_1200/825048/fix/825048_7T_RET_2mm_fix.zip packages/live/HCP_1200/825048/fix/825048_7T_RET_2mm_fix.zip.md5 packages/live/HCP_1200/826353/fix/826353_7T_RET_2mm_fix.zip packages/live/HCP_1200/826353/fix/826353_7T_RET_2mm_fix.zip.md5 packages/live/HCP_1200/833249/fix/833249_7T_RET_2mm_fix.zip packages/live/HCP_1200/833249/fix/833249_7T_RET_2mm_fix.zip.md5 packages/live/HCP_1200/859671/fix/859671_7T_RET_2mm_fix.zip packages/live/HCP_1200/859671/fix/859671_7T_RET_2mm_fix.zip.md5 packages/live/HCP_1200/861456/fix/861456_7T_RET_2mm_fix.zip packages/live/HCP_1200/861456/fix/861456_7T_RET_2mm_fix.zip.md5 packages/live/HCP_1200/871762/fix/871762_7T_RET_2mm_fix.zip packages/live/HCP_1200/871762/fix/871762_7T_RET_2mm_fix.zip.md5 packages/live/HCP_1200/872764/fix/872764_7T_RET_2mm_fix.zip packages/live/HCP_1200/872764/fix/872764_7T_RET_2mm_fix.zip.md5 packages/live/HCP_1200/878776/fix/878776_7T_RET_2mm_fix.zip packages/live/HCP_1200/878776/fix/878776_7T_RET_2mm_fix.zip.md5 packages/live/HCP_1200/878877/fix/878877_7T_RET_2mm_fix.zip packages/live/HCP_1200/878877/fix/878877_7T_RET_2mm_fix.zip.md5 packages/live/HCP_1200/898176/fix/898176_7T_RET_2mm_fix.zip packages/live/HCP_1200/898176/fix/898176_7T_RET_2mm_fix.zip.md5 packages/live/HCP_1200/899885/fix/899885_7T_RET_2mm_fix.zip packages/live/HCP_1200/899885/fix/899885_7T_RET_2mm_fix.zip.md5 packages/live/HCP_1200/901139/fix/901139_7T_RET_2mm_fix.zip packages/live/HCP_1200/901139/fix/901139_7T_RET_2mm_fix.zip.md5 packages/live/HCP_1200/901442/fix/901442_7T_RET_2mm_fix.zip packages/live/HCP_1200/901442/fix/901442_7T_RET_2mm_fix.zip.md5 packages/live/HCP_1200/905147/fix/905147_7T_RET_2mm_fix.zip packages/live/HCP_1200/905147/fix/905147_7T_RET_2mm_fix.zip.md5 packages/live/HCP_1200/910241/fix/910241_7T_RET_2mm_fix.zip packages/live/HCP_1200/910241/fix/910241_7T_RET_2mm_fix.zip.md5 packages/live/HCP_1200/926862/fix/926862_7T_RET_2mm_fix.zip packages/live/HCP_1200/926862/fix/926862_7T_RET_2mm_fix.zip.md5 packages/live/HCP_1200/927359/fix/927359_7T_RET_2mm_fix.zip packages/live/HCP_1200/927359/fix/927359_7T_RET_2mm_fix.zip.md5 packages/live/HCP_1200/942658/fix/942658_7T_RET_2mm_fix.zip packages/live/HCP_1200/942658/fix/942658_7T_RET_2mm_fix.zip.md5 packages/live/HCP_1200/943862/fix/943862_7T_RET_2mm_fix.zip packages/live/HCP_1200/943862/fix/943862_7T_RET_2mm_fix.zip.md5 packages/live/HCP_1200/951457/fix/951457_7T_RET_2mm_fix.zip packages/live/HCP_1200/951457/fix/951457_7T_RET_2mm_fix.zip.md5 packages/live/HCP_1200/958976/fix/958976_7T_RET_2mm_fix.zip packages/live/HCP_1200/958976/fix/958976_7T_RET_2mm_fix.zip.md5 packages/live/HCP_1200/966975/fix/966975_7T_RET_2mm_fix.zip packages/live/HCP_1200/966975/fix/966975_7T_RET_2mm_fix.zip.md5 packages/live/HCP_1200/971160/fix/971160_7T_RET_2mm_fix.zip packages/live/HCP_1200/971160/fix/971160_7T_RET_2mm_fix.zip.md5 packages/live/HCP_1200/973770/fix/973770_7T_RET_2mm_fix.zip packages/live/HCP_1200/973770/fix/973770_7T_RET_2mm_fix.zip.md5 packages/live/HCP_1200/995174/fix/995174_7T_RET_2mm_fix.zip packages/live/HCP_1200/995174/fix/995174_7T_RET_2mm_fix.zip.md5 /Users/alik/incoming_hcp\n"
     ]
    }
   ],
   "source": [
    "# generate command for local download -- testing only..\n",
    "\n",
    "#on destination system; if mac os X:\n",
    "destination = join(home,'incoming_hcp')\n",
    "key = join(home,'Applications/Aspera\\ Connect.app/Contents/Resources/asperaweb_id_dsa.openssh')\n",
    "ascp = join(home,'Applications/Aspera\\ Connect.app/Contents/Resources/ascp')\n",
    "\n",
    "transfer_dict = transfer_dicts[w.index]\n",
    "\n",
    "path_list = [path['source'] for path in transfer_dict['paths'] ]\n",
    "path_string = ' '.join(path_list)\n",
    "\n",
    "\n",
    "cmdline_opts = '-c {encryption_cipher} --mode recv -O {udp_port} -y 1 -t 443 --host={host}'\\\n",
    "               ' --user={host_user} -i {key} -W {token} -P {host_port} {path_string} {destination}'.format(key=key,path_string=path_string,destination=destination,**transfer_dict)\n",
    "\n",
    "\n",
    "#print the Aspera CLI that can be used on this local system (e.g. on your Mac) - useful for testing.. \n",
    "print(f'{ascp} {cmdline_opts}')"
   ]
  },
  {
   "cell_type": "code",
   "execution_count": 17,
   "metadata": {},
   "outputs": [
    {
     "name": "stdout",
     "output_type": "stream",
     "text": [
      "~/.aspera/cli/bin/ascp -c aes-128 --mode recv -O 33001 -y 1 -t 443 --host=asp-connect1.wustl.edu --user=asperaxfer -i ~/.aspera/connect/etc/asperaweb_id_dsa.openssh -W ATM2_ACsFqKR2pN3M7wlPihaS4TjnwM-qW24vIKLfkayR-WerYQAW4kr8KKp5XFfLw1Y7Rtzr5X_2MTA -P 33001 --overwrite=never -k 1 --policy=high packages/live/HCP_1200/100610/fix/100610_7T_RET_2mm_fix.zip packages/live/HCP_1200/100610/fix/100610_7T_RET_2mm_fix.zip.md5 packages/live/HCP_1200/102311/fix/102311_7T_RET_2mm_fix.zip packages/live/HCP_1200/102311/fix/102311_7T_RET_2mm_fix.zip.md5 packages/live/HCP_1200/102816/fix/102816_7T_RET_2mm_fix.zip packages/live/HCP_1200/102816/fix/102816_7T_RET_2mm_fix.zip.md5 packages/live/HCP_1200/104416/fix/104416_7T_RET_2mm_fix.zip packages/live/HCP_1200/104416/fix/104416_7T_RET_2mm_fix.zip.md5 packages/live/HCP_1200/105923/fix/105923_7T_RET_2mm_fix.zip packages/live/HCP_1200/105923/fix/105923_7T_RET_2mm_fix.zip.md5 packages/live/HCP_1200/108323/fix/108323_7T_RET_2mm_fix.zip packages/live/HCP_1200/108323/fix/108323_7T_RET_2mm_fix.zip.md5 packages/live/HCP_1200/109123/fix/109123_7T_RET_2mm_fix.zip packages/live/HCP_1200/109123/fix/109123_7T_RET_2mm_fix.zip.md5 packages/live/HCP_1200/111312/fix/111312_7T_RET_2mm_fix.zip packages/live/HCP_1200/111312/fix/111312_7T_RET_2mm_fix.zip.md5 packages/live/HCP_1200/111514/fix/111514_7T_RET_2mm_fix.zip packages/live/HCP_1200/111514/fix/111514_7T_RET_2mm_fix.zip.md5 packages/live/HCP_1200/114823/fix/114823_7T_RET_2mm_fix.zip packages/live/HCP_1200/114823/fix/114823_7T_RET_2mm_fix.zip.md5 packages/live/HCP_1200/115017/fix/115017_7T_RET_2mm_fix.zip packages/live/HCP_1200/115017/fix/115017_7T_RET_2mm_fix.zip.md5 packages/live/HCP_1200/115825/fix/115825_7T_RET_2mm_fix.zip packages/live/HCP_1200/115825/fix/115825_7T_RET_2mm_fix.zip.md5 packages/live/HCP_1200/116726/fix/116726_7T_RET_2mm_fix.zip packages/live/HCP_1200/116726/fix/116726_7T_RET_2mm_fix.zip.md5 packages/live/HCP_1200/118225/fix/118225_7T_RET_2mm_fix.zip packages/live/HCP_1200/118225/fix/118225_7T_RET_2mm_fix.zip.md5 packages/live/HCP_1200/125525/fix/125525_7T_RET_2mm_fix.zip packages/live/HCP_1200/125525/fix/125525_7T_RET_2mm_fix.zip.md5 packages/live/HCP_1200/126426/fix/126426_7T_RET_2mm_fix.zip packages/live/HCP_1200/126426/fix/126426_7T_RET_2mm_fix.zip.md5 packages/live/HCP_1200/126931/fix/126931_7T_RET_2mm_fix.zip packages/live/HCP_1200/126931/fix/126931_7T_RET_2mm_fix.zip.md5 packages/live/HCP_1200/128935/fix/128935_7T_RET_2mm_fix.zip packages/live/HCP_1200/128935/fix/128935_7T_RET_2mm_fix.zip.md5 packages/live/HCP_1200/130114/fix/130114_7T_RET_2mm_fix.zip packages/live/HCP_1200/130114/fix/130114_7T_RET_2mm_fix.zip.md5 packages/live/HCP_1200/130518/fix/130518_7T_RET_2mm_fix.zip packages/live/HCP_1200/130518/fix/130518_7T_RET_2mm_fix.zip.md5 packages/live/HCP_1200/131217/fix/131217_7T_RET_2mm_fix.zip packages/live/HCP_1200/131217/fix/131217_7T_RET_2mm_fix.zip.md5 packages/live/HCP_1200/131722/fix/131722_7T_RET_2mm_fix.zip packages/live/HCP_1200/131722/fix/131722_7T_RET_2mm_fix.zip.md5 packages/live/HCP_1200/132118/fix/132118_7T_RET_2mm_fix.zip packages/live/HCP_1200/132118/fix/132118_7T_RET_2mm_fix.zip.md5 packages/live/HCP_1200/134627/fix/134627_7T_RET_2mm_fix.zip packages/live/HCP_1200/134627/fix/134627_7T_RET_2mm_fix.zip.md5 packages/live/HCP_1200/134829/fix/134829_7T_RET_2mm_fix.zip packages/live/HCP_1200/134829/fix/134829_7T_RET_2mm_fix.zip.md5 packages/live/HCP_1200/135124/fix/135124_7T_RET_2mm_fix.zip packages/live/HCP_1200/135124/fix/135124_7T_RET_2mm_fix.zip.md5 packages/live/HCP_1200/137128/fix/137128_7T_RET_2mm_fix.zip packages/live/HCP_1200/137128/fix/137128_7T_RET_2mm_fix.zip.md5 packages/live/HCP_1200/140117/fix/140117_7T_RET_2mm_fix.zip packages/live/HCP_1200/140117/fix/140117_7T_RET_2mm_fix.zip.md5 packages/live/HCP_1200/144226/fix/144226_7T_RET_2mm_fix.zip packages/live/HCP_1200/144226/fix/144226_7T_RET_2mm_fix.zip.md5 packages/live/HCP_1200/145834/fix/145834_7T_RET_2mm_fix.zip packages/live/HCP_1200/145834/fix/145834_7T_RET_2mm_fix.zip.md5 packages/live/HCP_1200/146129/fix/146129_7T_RET_2mm_fix.zip packages/live/HCP_1200/146129/fix/146129_7T_RET_2mm_fix.zip.md5 packages/live/HCP_1200/146432/fix/146432_7T_RET_2mm_fix.zip packages/live/HCP_1200/146432/fix/146432_7T_RET_2mm_fix.zip.md5 packages/live/HCP_1200/146735/fix/146735_7T_RET_2mm_fix.zip packages/live/HCP_1200/146735/fix/146735_7T_RET_2mm_fix.zip.md5 packages/live/HCP_1200/146937/fix/146937_7T_RET_2mm_fix.zip packages/live/HCP_1200/146937/fix/146937_7T_RET_2mm_fix.zip.md5 packages/live/HCP_1200/148133/fix/148133_7T_RET_2mm_fix.zip packages/live/HCP_1200/148133/fix/148133_7T_RET_2mm_fix.zip.md5 packages/live/HCP_1200/150423/fix/150423_7T_RET_2mm_fix.zip packages/live/HCP_1200/150423/fix/150423_7T_RET_2mm_fix.zip.md5 packages/live/HCP_1200/155938/fix/155938_7T_RET_2mm_fix.zip packages/live/HCP_1200/155938/fix/155938_7T_RET_2mm_fix.zip.md5 packages/live/HCP_1200/156334/fix/156334_7T_RET_2mm_fix.zip packages/live/HCP_1200/156334/fix/156334_7T_RET_2mm_fix.zip.md5 packages/live/HCP_1200/157336/fix/157336_7T_RET_2mm_fix.zip packages/live/HCP_1200/157336/fix/157336_7T_RET_2mm_fix.zip.md5 packages/live/HCP_1200/158035/fix/158035_7T_RET_2mm_fix.zip packages/live/HCP_1200/158035/fix/158035_7T_RET_2mm_fix.zip.md5 packages/live/HCP_1200/158136/fix/158136_7T_RET_2mm_fix.zip packages/live/HCP_1200/158136/fix/158136_7T_RET_2mm_fix.zip.md5 packages/live/HCP_1200/159239/fix/159239_7T_RET_2mm_fix.zip packages/live/HCP_1200/159239/fix/159239_7T_RET_2mm_fix.zip.md5 packages/live/HCP_1200/162935/fix/162935_7T_RET_2mm_fix.zip packages/live/HCP_1200/162935/fix/162935_7T_RET_2mm_fix.zip.md5 packages/live/HCP_1200/164131/fix/164131_7T_RET_2mm_fix.zip packages/live/HCP_1200/164131/fix/164131_7T_RET_2mm_fix.zip.md5 packages/live/HCP_1200/164636/fix/164636_7T_RET_2mm_fix.zip packages/live/HCP_1200/164636/fix/164636_7T_RET_2mm_fix.zip.md5 packages/live/HCP_1200/165436/fix/165436_7T_RET_2mm_fix.zip packages/live/HCP_1200/165436/fix/165436_7T_RET_2mm_fix.zip.md5 packages/live/HCP_1200/167036/fix/167036_7T_RET_2mm_fix.zip packages/live/HCP_1200/167036/fix/167036_7T_RET_2mm_fix.zip.md5 packages/live/HCP_1200/167440/fix/167440_7T_RET_2mm_fix.zip packages/live/HCP_1200/167440/fix/167440_7T_RET_2mm_fix.zip.md5 packages/live/HCP_1200/169040/fix/169040_7T_RET_2mm_fix.zip packages/live/HCP_1200/169040/fix/169040_7T_RET_2mm_fix.zip.md5 packages/live/HCP_1200/169343/fix/169343_7T_RET_2mm_fix.zip packages/live/HCP_1200/169343/fix/169343_7T_RET_2mm_fix.zip.md5 packages/live/HCP_1200/169444/fix/169444_7T_RET_2mm_fix.zip packages/live/HCP_1200/169444/fix/169444_7T_RET_2mm_fix.zip.md5 packages/live/HCP_1200/169747/fix/169747_7T_RET_2mm_fix.zip packages/live/HCP_1200/169747/fix/169747_7T_RET_2mm_fix.zip.md5 packages/live/HCP_1200/171633/fix/171633_7T_RET_2mm_fix.zip packages/live/HCP_1200/171633/fix/171633_7T_RET_2mm_fix.zip.md5 packages/live/HCP_1200/172130/fix/172130_7T_RET_2mm_fix.zip packages/live/HCP_1200/172130/fix/172130_7T_RET_2mm_fix.zip.md5 packages/live/HCP_1200/173334/fix/173334_7T_RET_2mm_fix.zip packages/live/HCP_1200/173334/fix/173334_7T_RET_2mm_fix.zip.md5 packages/live/HCP_1200/175237/fix/175237_7T_RET_2mm_fix.zip packages/live/HCP_1200/175237/fix/175237_7T_RET_2mm_fix.zip.md5 packages/live/HCP_1200/176542/fix/176542_7T_RET_2mm_fix.zip packages/live/HCP_1200/176542/fix/176542_7T_RET_2mm_fix.zip.md5 packages/live/HCP_1200/177140/fix/177140_7T_RET_2mm_fix.zip packages/live/HCP_1200/177140/fix/177140_7T_RET_2mm_fix.zip.md5 packages/live/HCP_1200/177645/fix/177645_7T_RET_2mm_fix.zip packages/live/HCP_1200/177645/fix/177645_7T_RET_2mm_fix.zip.md5 packages/live/HCP_1200/177746/fix/177746_7T_RET_2mm_fix.zip packages/live/HCP_1200/177746/fix/177746_7T_RET_2mm_fix.zip.md5 packages/live/HCP_1200/178142/fix/178142_7T_RET_2mm_fix.zip packages/live/HCP_1200/178142/fix/178142_7T_RET_2mm_fix.zip.md5 packages/live/HCP_1200/178243/fix/178243_7T_RET_2mm_fix.zip packages/live/HCP_1200/178243/fix/178243_7T_RET_2mm_fix.zip.md5 packages/live/HCP_1200/178647/fix/178647_7T_RET_2mm_fix.zip packages/live/HCP_1200/178647/fix/178647_7T_RET_2mm_fix.zip.md5 packages/live/HCP_1200/180533/fix/180533_7T_RET_2mm_fix.zip packages/live/HCP_1200/180533/fix/180533_7T_RET_2mm_fix.zip.md5 packages/live/HCP_1200/181232/fix/181232_7T_RET_2mm_fix.zip packages/live/HCP_1200/181232/fix/181232_7T_RET_2mm_fix.zip.md5 packages/live/HCP_1200/181636/fix/181636_7T_RET_2mm_fix.zip packages/live/HCP_1200/181636/fix/181636_7T_RET_2mm_fix.zip.md5 packages/live/HCP_1200/182436/fix/182436_7T_RET_2mm_fix.zip packages/live/HCP_1200/182436/fix/182436_7T_RET_2mm_fix.zip.md5 packages/live/HCP_1200/182739/fix/182739_7T_RET_2mm_fix.zip packages/live/HCP_1200/182739/fix/182739_7T_RET_2mm_fix.zip.md5 packages/live/HCP_1200/185442/fix/185442_7T_RET_2mm_fix.zip packages/live/HCP_1200/185442/fix/185442_7T_RET_2mm_fix.zip.md5 packages/live/HCP_1200/186949/fix/186949_7T_RET_2mm_fix.zip packages/live/HCP_1200/186949/fix/186949_7T_RET_2mm_fix.zip.md5 packages/live/HCP_1200/187345/fix/187345_7T_RET_2mm_fix.zip packages/live/HCP_1200/187345/fix/187345_7T_RET_2mm_fix.zip.md5 packages/live/HCP_1200/191033/fix/191033_7T_RET_2mm_fix.zip packages/live/HCP_1200/191033/fix/191033_7T_RET_2mm_fix.zip.md5 packages/live/HCP_1200/191336/fix/191336_7T_RET_2mm_fix.zip packages/live/HCP_1200/191336/fix/191336_7T_RET_2mm_fix.zip.md5 packages/live/HCP_1200/191841/fix/191841_7T_RET_2mm_fix.zip packages/live/HCP_1200/191841/fix/191841_7T_RET_2mm_fix.zip.md5 packages/live/HCP_1200/192439/fix/192439_7T_RET_2mm_fix.zip packages/live/HCP_1200/192439/fix/192439_7T_RET_2mm_fix.zip.md5 packages/live/HCP_1200/192641/fix/192641_7T_RET_2mm_fix.zip packages/live/HCP_1200/192641/fix/192641_7T_RET_2mm_fix.zip.md5 packages/live/HCP_1200/193845/fix/193845_7T_RET_2mm_fix.zip packages/live/HCP_1200/193845/fix/193845_7T_RET_2mm_fix.zip.md5 packages/live/HCP_1200/195041/fix/195041_7T_RET_2mm_fix.zip packages/live/HCP_1200/195041/fix/195041_7T_RET_2mm_fix.zip.md5 packages/live/HCP_1200/196144/fix/196144_7T_RET_2mm_fix.zip packages/live/HCP_1200/196144/fix/196144_7T_RET_2mm_fix.zip.md5 packages/live/HCP_1200/197348/fix/197348_7T_RET_2mm_fix.zip packages/live/HCP_1200/197348/fix/197348_7T_RET_2mm_fix.zip.md5 packages/live/HCP_1200/198653/fix/198653_7T_RET_2mm_fix.zip packages/live/HCP_1200/198653/fix/198653_7T_RET_2mm_fix.zip.md5 packages/live/HCP_1200/199655/fix/199655_7T_RET_2mm_fix.zip packages/live/HCP_1200/199655/fix/199655_7T_RET_2mm_fix.zip.md5 packages/live/HCP_1200/200210/fix/200210_7T_RET_2mm_fix.zip packages/live/HCP_1200/200210/fix/200210_7T_RET_2mm_fix.zip.md5 packages/live/HCP_1200/200311/fix/200311_7T_RET_2mm_fix.zip packages/live/HCP_1200/200311/fix/200311_7T_RET_2mm_fix.zip.md5 packages/live/HCP_1200/200614/fix/200614_7T_RET_2mm_fix.zip packages/live/HCP_1200/200614/fix/200614_7T_RET_2mm_fix.zip.md5 packages/live/HCP_1200/201515/fix/201515_7T_RET_2mm_fix.zip packages/live/HCP_1200/201515/fix/201515_7T_RET_2mm_fix.zip.md5 packages/live/HCP_1200/203418/fix/203418_7T_RET_2mm_fix.zip packages/live/HCP_1200/203418/fix/203418_7T_RET_2mm_fix.zip.md5 packages/live/HCP_1200/204521/fix/204521_7T_RET_2mm_fix.zip packages/live/HCP_1200/204521/fix/204521_7T_RET_2mm_fix.zip.md5 packages/live/HCP_1200/205220/fix/205220_7T_RET_2mm_fix.zip packages/live/HCP_1200/205220/fix/205220_7T_RET_2mm_fix.zip.md5 packages/live/HCP_1200/209228/fix/209228_7T_RET_2mm_fix.zip packages/live/HCP_1200/209228/fix/209228_7T_RET_2mm_fix.zip.md5 packages/live/HCP_1200/212419/fix/212419_7T_RET_2mm_fix.zip packages/live/HCP_1200/212419/fix/212419_7T_RET_2mm_fix.zip.md5 packages/live/HCP_1200/214019/fix/214019_7T_RET_2mm_fix.zip packages/live/HCP_1200/214019/fix/214019_7T_RET_2mm_fix.zip.md5 packages/live/HCP_1200/214524/fix/214524_7T_RET_2mm_fix.zip packages/live/HCP_1200/214524/fix/214524_7T_RET_2mm_fix.zip.md5 packages/live/HCP_1200/221319/fix/221319_7T_RET_2mm_fix.zip packages/live/HCP_1200/221319/fix/221319_7T_RET_2mm_fix.zip.md5 packages/live/HCP_1200/233326/fix/233326_7T_RET_2mm_fix.zip packages/live/HCP_1200/233326/fix/233326_7T_RET_2mm_fix.zip.md5 packages/live/HCP_1200/239136/fix/239136_7T_RET_2mm_fix.zip packages/live/HCP_1200/239136/fix/239136_7T_RET_2mm_fix.zip.md5 packages/live/HCP_1200/246133/fix/246133_7T_RET_2mm_fix.zip packages/live/HCP_1200/246133/fix/246133_7T_RET_2mm_fix.zip.md5 packages/live/HCP_1200/249947/fix/249947_7T_RET_2mm_fix.zip packages/live/HCP_1200/249947/fix/249947_7T_RET_2mm_fix.zip.md5 packages/live/HCP_1200/251833/fix/251833_7T_RET_2mm_fix.zip packages/live/HCP_1200/251833/fix/251833_7T_RET_2mm_fix.zip.md5 packages/live/HCP_1200/257845/fix/257845_7T_RET_2mm_fix.zip packages/live/HCP_1200/257845/fix/257845_7T_RET_2mm_fix.zip.md5 packages/live/HCP_1200/263436/fix/263436_7T_RET_2mm_fix.zip packages/live/HCP_1200/263436/fix/263436_7T_RET_2mm_fix.zip.md5 packages/live/HCP_1200/283543/fix/283543_7T_RET_2mm_fix.zip packages/live/HCP_1200/283543/fix/283543_7T_RET_2mm_fix.zip.md5 packages/live/HCP_1200/318637/fix/318637_7T_RET_2mm_fix.zip packages/live/HCP_1200/318637/fix/318637_7T_RET_2mm_fix.zip.md5 packages/live/HCP_1200/320826/fix/320826_7T_RET_2mm_fix.zip packages/live/HCP_1200/320826/fix/320826_7T_RET_2mm_fix.zip.md5 packages/live/HCP_1200/330324/fix/330324_7T_RET_2mm_fix.zip packages/live/HCP_1200/330324/fix/330324_7T_RET_2mm_fix.zip.md5 packages/live/HCP_1200/346137/fix/346137_7T_RET_2mm_fix.zip packages/live/HCP_1200/346137/fix/346137_7T_RET_2mm_fix.zip.md5 packages/live/HCP_1200/352738/fix/352738_7T_RET_2mm_fix.zip packages/live/HCP_1200/352738/fix/352738_7T_RET_2mm_fix.zip.md5 packages/live/HCP_1200/360030/fix/360030_7T_RET_2mm_fix.zip packages/live/HCP_1200/360030/fix/360030_7T_RET_2mm_fix.zip.md5 packages/live/HCP_1200/365343/fix/365343_7T_RET_2mm_fix.zip packages/live/HCP_1200/365343/fix/365343_7T_RET_2mm_fix.zip.md5 packages/live/HCP_1200/380036/fix/380036_7T_RET_2mm_fix.zip packages/live/HCP_1200/380036/fix/380036_7T_RET_2mm_fix.zip.md5 packages/live/HCP_1200/381038/fix/381038_7T_RET_2mm_fix.zip packages/live/HCP_1200/381038/fix/381038_7T_RET_2mm_fix.zip.md5 packages/live/HCP_1200/385046/fix/385046_7T_RET_2mm_fix.zip packages/live/HCP_1200/385046/fix/385046_7T_RET_2mm_fix.zip.md5 packages/live/HCP_1200/389357/fix/389357_7T_RET_2mm_fix.zip packages/live/HCP_1200/389357/fix/389357_7T_RET_2mm_fix.zip.md5 packages/live/HCP_1200/393247/fix/393247_7T_RET_2mm_fix.zip packages/live/HCP_1200/393247/fix/393247_7T_RET_2mm_fix.zip.md5 packages/live/HCP_1200/395756/fix/395756_7T_RET_2mm_fix.zip packages/live/HCP_1200/395756/fix/395756_7T_RET_2mm_fix.zip.md5 packages/live/HCP_1200/397760/fix/397760_7T_RET_2mm_fix.zip packages/live/HCP_1200/397760/fix/397760_7T_RET_2mm_fix.zip.md5 packages/live/HCP_1200/401422/fix/401422_7T_RET_2mm_fix.zip packages/live/HCP_1200/401422/fix/401422_7T_RET_2mm_fix.zip.md5 packages/live/HCP_1200/406836/fix/406836_7T_RET_2mm_fix.zip packages/live/HCP_1200/406836/fix/406836_7T_RET_2mm_fix.zip.md5 packages/live/HCP_1200/412528/fix/412528_7T_RET_2mm_fix.zip packages/live/HCP_1200/412528/fix/412528_7T_RET_2mm_fix.zip.md5 packages/live/HCP_1200/429040/fix/429040_7T_RET_2mm_fix.zip packages/live/HCP_1200/429040/fix/429040_7T_RET_2mm_fix.zip.md5 packages/live/HCP_1200/436845/fix/436845_7T_RET_2mm_fix.zip packages/live/HCP_1200/436845/fix/436845_7T_RET_2mm_fix.zip.md5 packages/live/HCP_1200/463040/fix/463040_7T_RET_2mm_fix.zip packages/live/HCP_1200/463040/fix/463040_7T_RET_2mm_fix.zip.md5 packages/live/HCP_1200/467351/fix/467351_7T_RET_2mm_fix.zip packages/live/HCP_1200/467351/fix/467351_7T_RET_2mm_fix.zip.md5 packages/live/HCP_1200/525541/fix/525541_7T_RET_2mm_fix.zip packages/live/HCP_1200/525541/fix/525541_7T_RET_2mm_fix.zip.md5 packages/live/HCP_1200/536647/fix/536647_7T_RET_2mm_fix.zip packages/live/HCP_1200/536647/fix/536647_7T_RET_2mm_fix.zip.md5 packages/live/HCP_1200/541943/fix/541943_7T_RET_2mm_fix.zip packages/live/HCP_1200/541943/fix/541943_7T_RET_2mm_fix.zip.md5 packages/live/HCP_1200/547046/fix/547046_7T_RET_2mm_fix.zip packages/live/HCP_1200/547046/fix/547046_7T_RET_2mm_fix.zip.md5 packages/live/HCP_1200/550439/fix/550439_7T_RET_2mm_fix.zip packages/live/HCP_1200/550439/fix/550439_7T_RET_2mm_fix.zip.md5 packages/live/HCP_1200/552241/fix/552241_7T_RET_2mm_fix.zip packages/live/HCP_1200/552241/fix/552241_7T_RET_2mm_fix.zip.md5 packages/live/HCP_1200/562345/fix/562345_7T_RET_2mm_fix.zip packages/live/HCP_1200/562345/fix/562345_7T_RET_2mm_fix.zip.md5 packages/live/HCP_1200/572045/fix/572045_7T_RET_2mm_fix.zip packages/live/HCP_1200/572045/fix/572045_7T_RET_2mm_fix.zip.md5 packages/live/HCP_1200/573249/fix/573249_7T_RET_2mm_fix.zip packages/live/HCP_1200/573249/fix/573249_7T_RET_2mm_fix.zip.md5 packages/live/HCP_1200/581450/fix/581450_7T_RET_2mm_fix.zip packages/live/HCP_1200/581450/fix/581450_7T_RET_2mm_fix.zip.md5 packages/live/HCP_1200/585256/fix/585256_7T_RET_2mm_fix.zip packages/live/HCP_1200/585256/fix/585256_7T_RET_2mm_fix.zip.md5 packages/live/HCP_1200/601127/fix/601127_7T_RET_2mm_fix.zip packages/live/HCP_1200/601127/fix/601127_7T_RET_2mm_fix.zip.md5 packages/live/HCP_1200/617748/fix/617748_7T_RET_2mm_fix.zip packages/live/HCP_1200/617748/fix/617748_7T_RET_2mm_fix.zip.md5 packages/live/HCP_1200/627549/fix/627549_7T_RET_2mm_fix.zip packages/live/HCP_1200/627549/fix/627549_7T_RET_2mm_fix.zip.md5 packages/live/HCP_1200/638049/fix/638049_7T_RET_2mm_fix.zip packages/live/HCP_1200/638049/fix/638049_7T_RET_2mm_fix.zip.md5 packages/live/HCP_1200/644246/fix/644246_7T_RET_2mm_fix.zip packages/live/HCP_1200/644246/fix/644246_7T_RET_2mm_fix.zip.md5 packages/live/HCP_1200/654552/fix/654552_7T_RET_2mm_fix.zip packages/live/HCP_1200/654552/fix/654552_7T_RET_2mm_fix.zip.md5 packages/live/HCP_1200/671855/fix/671855_7T_RET_2mm_fix.zip packages/live/HCP_1200/671855/fix/671855_7T_RET_2mm_fix.zip.md5 packages/live/HCP_1200/680957/fix/680957_7T_RET_2mm_fix.zip packages/live/HCP_1200/680957/fix/680957_7T_RET_2mm_fix.zip.md5 packages/live/HCP_1200/690152/fix/690152_7T_RET_2mm_fix.zip packages/live/HCP_1200/690152/fix/690152_7T_RET_2mm_fix.zip.md5 packages/live/HCP_1200/706040/fix/706040_7T_RET_2mm_fix.zip packages/live/HCP_1200/706040/fix/706040_7T_RET_2mm_fix.zip.md5 packages/live/HCP_1200/724446/fix/724446_7T_RET_2mm_fix.zip packages/live/HCP_1200/724446/fix/724446_7T_RET_2mm_fix.zip.md5 packages/live/HCP_1200/725751/fix/725751_7T_RET_2mm_fix.zip packages/live/HCP_1200/725751/fix/725751_7T_RET_2mm_fix.zip.md5 packages/live/HCP_1200/732243/fix/732243_7T_RET_2mm_fix.zip packages/live/HCP_1200/732243/fix/732243_7T_RET_2mm_fix.zip.md5 packages/live/HCP_1200/745555/fix/745555_7T_RET_2mm_fix.zip packages/live/HCP_1200/745555/fix/745555_7T_RET_2mm_fix.zip.md5 packages/live/HCP_1200/751550/fix/751550_7T_RET_2mm_fix.zip packages/live/HCP_1200/751550/fix/751550_7T_RET_2mm_fix.zip.md5 packages/live/HCP_1200/757764/fix/757764_7T_RET_2mm_fix.zip packages/live/HCP_1200/757764/fix/757764_7T_RET_2mm_fix.zip.md5 packages/live/HCP_1200/765864/fix/765864_7T_RET_2mm_fix.zip packages/live/HCP_1200/765864/fix/765864_7T_RET_2mm_fix.zip.md5 packages/live/HCP_1200/770352/fix/770352_7T_RET_2mm_fix.zip packages/live/HCP_1200/770352/fix/770352_7T_RET_2mm_fix.zip.md5 packages/live/HCP_1200/771354/fix/771354_7T_RET_2mm_fix.zip packages/live/HCP_1200/771354/fix/771354_7T_RET_2mm_fix.zip.md5 packages/live/HCP_1200/782561/fix/782561_7T_RET_2mm_fix.zip packages/live/HCP_1200/782561/fix/782561_7T_RET_2mm_fix.zip.md5 packages/live/HCP_1200/783462/fix/783462_7T_RET_2mm_fix.zip packages/live/HCP_1200/783462/fix/783462_7T_RET_2mm_fix.zip.md5 packages/live/HCP_1200/789373/fix/789373_7T_RET_2mm_fix.zip packages/live/HCP_1200/789373/fix/789373_7T_RET_2mm_fix.zip.md5 packages/live/HCP_1200/814649/fix/814649_7T_RET_2mm_fix.zip packages/live/HCP_1200/814649/fix/814649_7T_RET_2mm_fix.zip.md5 packages/live/HCP_1200/818859/fix/818859_7T_RET_2mm_fix.zip packages/live/HCP_1200/818859/fix/818859_7T_RET_2mm_fix.zip.md5 packages/live/HCP_1200/825048/fix/825048_7T_RET_2mm_fix.zip packages/live/HCP_1200/825048/fix/825048_7T_RET_2mm_fix.zip.md5 packages/live/HCP_1200/826353/fix/826353_7T_RET_2mm_fix.zip packages/live/HCP_1200/826353/fix/826353_7T_RET_2mm_fix.zip.md5 packages/live/HCP_1200/833249/fix/833249_7T_RET_2mm_fix.zip packages/live/HCP_1200/833249/fix/833249_7T_RET_2mm_fix.zip.md5 packages/live/HCP_1200/859671/fix/859671_7T_RET_2mm_fix.zip packages/live/HCP_1200/859671/fix/859671_7T_RET_2mm_fix.zip.md5 packages/live/HCP_1200/861456/fix/861456_7T_RET_2mm_fix.zip packages/live/HCP_1200/861456/fix/861456_7T_RET_2mm_fix.zip.md5 packages/live/HCP_1200/871762/fix/871762_7T_RET_2mm_fix.zip packages/live/HCP_1200/871762/fix/871762_7T_RET_2mm_fix.zip.md5 packages/live/HCP_1200/872764/fix/872764_7T_RET_2mm_fix.zip packages/live/HCP_1200/872764/fix/872764_7T_RET_2mm_fix.zip.md5 packages/live/HCP_1200/878776/fix/878776_7T_RET_2mm_fix.zip packages/live/HCP_1200/878776/fix/878776_7T_RET_2mm_fix.zip.md5 packages/live/HCP_1200/878877/fix/878877_7T_RET_2mm_fix.zip packages/live/HCP_1200/878877/fix/878877_7T_RET_2mm_fix.zip.md5 packages/live/HCP_1200/898176/fix/898176_7T_RET_2mm_fix.zip packages/live/HCP_1200/898176/fix/898176_7T_RET_2mm_fix.zip.md5 packages/live/HCP_1200/899885/fix/899885_7T_RET_2mm_fix.zip packages/live/HCP_1200/899885/fix/899885_7T_RET_2mm_fix.zip.md5 packages/live/HCP_1200/901139/fix/901139_7T_RET_2mm_fix.zip packages/live/HCP_1200/901139/fix/901139_7T_RET_2mm_fix.zip.md5 packages/live/HCP_1200/901442/fix/901442_7T_RET_2mm_fix.zip packages/live/HCP_1200/901442/fix/901442_7T_RET_2mm_fix.zip.md5 packages/live/HCP_1200/905147/fix/905147_7T_RET_2mm_fix.zip packages/live/HCP_1200/905147/fix/905147_7T_RET_2mm_fix.zip.md5 packages/live/HCP_1200/910241/fix/910241_7T_RET_2mm_fix.zip packages/live/HCP_1200/910241/fix/910241_7T_RET_2mm_fix.zip.md5 packages/live/HCP_1200/926862/fix/926862_7T_RET_2mm_fix.zip packages/live/HCP_1200/926862/fix/926862_7T_RET_2mm_fix.zip.md5 packages/live/HCP_1200/927359/fix/927359_7T_RET_2mm_fix.zip packages/live/HCP_1200/927359/fix/927359_7T_RET_2mm_fix.zip.md5 packages/live/HCP_1200/942658/fix/942658_7T_RET_2mm_fix.zip packages/live/HCP_1200/942658/fix/942658_7T_RET_2mm_fix.zip.md5 packages/live/HCP_1200/943862/fix/943862_7T_RET_2mm_fix.zip packages/live/HCP_1200/943862/fix/943862_7T_RET_2mm_fix.zip.md5 packages/live/HCP_1200/951457/fix/951457_7T_RET_2mm_fix.zip packages/live/HCP_1200/951457/fix/951457_7T_RET_2mm_fix.zip.md5 packages/live/HCP_1200/958976/fix/958976_7T_RET_2mm_fix.zip packages/live/HCP_1200/958976/fix/958976_7T_RET_2mm_fix.zip.md5 packages/live/HCP_1200/966975/fix/966975_7T_RET_2mm_fix.zip packages/live/HCP_1200/966975/fix/966975_7T_RET_2mm_fix.zip.md5 packages/live/HCP_1200/971160/fix/971160_7T_RET_2mm_fix.zip packages/live/HCP_1200/971160/fix/971160_7T_RET_2mm_fix.zip.md5 packages/live/HCP_1200/973770/fix/973770_7T_RET_2mm_fix.zip packages/live/HCP_1200/973770/fix/973770_7T_RET_2mm_fix.zip.md5 packages/live/HCP_1200/995174/fix/995174_7T_RET_2mm_fix.zip packages/live/HCP_1200/995174/fix/995174_7T_RET_2mm_fix.zip.md5 ~/incoming_hcp\n"
     ]
    }
   ],
   "source": [
    "# generate command for linux download:\n",
    "\n",
    "transfer_dict = transfer_dicts[w.index]\n",
    "\n",
    "remotehome = '~'\n",
    "destination = join(remotehome,'incoming_hcp')\n",
    "key = join(remotehome,'.aspera/connect/etc/asperaweb_id_dsa.openssh')\n",
    "ascp = join(remotehome,'.aspera/cli/bin/ascp')\n",
    "\n",
    "\n",
    "path_list = [path['source'] for path in transfer_dict['paths'] ]\n",
    "path_string = ' '.join(path_list)\n",
    "\n",
    "\n",
    "cmdline_opts = '-c {encryption_cipher} --mode recv -O {udp_port} -y 1 -t 443 --host={host}'\\\n",
    "               ' --user={host_user} -i {key} -W {token} -P {host_port} --overwrite=never -k 1 --policy=high {path_string} {destination}'.format(key=key,path_string=path_string,destination=destination,**transfer_dict)\n",
    "\n",
    "#cmd = f'{cmdline_opts} {path_list} {destination}'\n",
    "print(f'{ascp} {cmdline_opts}')"
   ]
  },
  {
   "cell_type": "code",
   "execution_count": 28,
   "metadata": {},
   "outputs": [
    {
     "data": {
      "text/plain": [
       "'test_file'"
      ]
     },
     "execution_count": 28,
     "metadata": {},
     "output_type": "execute_result"
    }
   ],
   "source": [
    "#run command remotely:\n",
    "\n",
    "# to do\n"
   ]
  },
  {
   "cell_type": "code",
   "execution_count": 90,
   "metadata": {},
   "outputs": [
    {
     "data": {
      "text/plain": [
       "CompletedProcess(args=['/Users/alik/Applications/Aspera Connect.app/Contents/Resources/ascp', \"-c aes-128 --mode recv -O 33001 -y 1 -t 443 --host=asp-connect1.wustl.edu --user=asperaxfer -i /Users/alik/Applications/Aspera Connect.app/Contents/Resources/aspera_web_key.pem -W ATM2_ACsf_5SngLPUy508rBUFIBo_wf4TFvO0LAl1sxiZwbz9-cAAI4AqIsQpq8008_Al9B5AMm_2MTA -P 33001 ['packages/live/HCP_1200/100307/preproc/100307_3T_tfMRI_SOCIAL_preproc.zip', 'packages/live/HCP_1200/100307/preproc/100307_3T_tfMRI_SOCIAL_preproc.zip.md5'] /Users/alik/incoming_hcp\"], returncode=1)"
      ]
     },
     "execution_count": 90,
     "metadata": {},
     "output_type": "execute_result"
    }
   ],
   "source": [
    "p = run([ascp,cmdline_opts])\n",
    "output = p.stdout\n",
    "p"
   ]
  },
  {
   "cell_type": "code",
   "execution_count": 74,
   "metadata": {},
   "outputs": [
    {
     "name": "stdout",
     "output_type": "stream",
     "text": [
      "CompletedProcess(args=['/Users/alik/Applications/Aspera Connect.app/Contents/Resources/ascp', \"-c aes-128 --mode recv -O 33001 -y 1 -t 443 --host=asp-connect1.wustl.edu --user=asperaxfer -i /Users/alik/Applications/Aspera Connect.app/Contents/Resources/aspera_web_key.pem -W ATM2_ACsf_5SngLPUy508rBUFIBo_wf4TFvO0LAl1sxiZwbz9-cAAI4AqIsQpq8008_Al9B5AMm_2MTA -P 33001 ['packages/live/HCP_1200/100307/preproc/100307_3T_tfMRI_SOCIAL_preproc.zip', 'packages/live/HCP_1200/100307/preproc/100307_3T_tfMRI_SOCIAL_preproc.zip.md5'] /Users/alik/incoming_hcp\"], returncode=1)\n"
     ]
    }
   ],
   "source": [
    "print(out)"
   ]
  },
  {
   "cell_type": "code",
   "execution_count": 95,
   "metadata": {},
   "outputs": [
    {
     "name": "stdout",
     "output_type": "stream",
     "text": [
      "['packages/live/HCP_1200/100307/preproc/100307_3T_tfMRI_SOCIAL_preproc.zip', 'packages/live/HCP_1200/100307/preproc/100307_3T_tfMRI_SOCIAL_preproc.zip.md5']\n"
     ]
    }
   ],
   "source": [
    "print(path_list)"
   ]
  },
  {
   "cell_type": "code",
   "execution_count": 97,
   "metadata": {},
   "outputs": [
    {
     "data": {
      "text/plain": [
       "'packages/live/HCP_1200/100307/preproc/100307_3T_tfMRI_SOCIAL_preproc.zip packages/live/HCP_1200/100307/preproc/100307_3T_tfMRI_SOCIAL_preproc.zip.md5'"
      ]
     },
     "execution_count": 97,
     "metadata": {},
     "output_type": "execute_result"
    }
   ],
   "source": []
  },
  {
   "cell_type": "code",
   "execution_count": 104,
   "metadata": {},
   "outputs": [
    {
     "name": "stdout",
     "output_type": "stream",
     "text": [
      "{'account_id': '', 'added_time': 1589466362205, 'allow_dialogs': True, 'app_id': 'NzAwNzY0MDctYzI5Yy00Y2VjLWIyY2QtMDQ2ZmZjYTk4YjZk', 'authentication_method': 'public_key', 'auto_detect_path_mtu': True, 'auto_start': False, 'back_link': 'https://db.humanconnectome.org/app/action/ChooseDownloadPackages', 'bandwidth_cap': 0, 'bit_rate': 0, 'bytes_expected': 0, 'bytes_written': 0, 'content_protection': False, 'content_protection_optional': False, 'cookie': 'XDATUser=akhanf', 'create_path': False, 'current_file': '', 'data_folder': '/Users/alik/.aspera/connect/filelists/ibm aspera connect-6e1c4d13-f80a-4d14-810e-58925417f5fb', 'datagram_size': 1492, 'delete_upload_files_on_complete': False, 'destination_root': '/Users/alik/Downloads', 'encryption_cipher': 'aes-128', 'end_time': 0, 'error_code': 0, 'error_message': '', 'fasp_session_id': '561211f0-5ac2-4317-ba91-364aa10768b3', 'host': 'asp-connect1.wustl.edu', 'host_port': 33001, 'host_user': 'asperaxfer', 'http_fallback_allowed': True, 'http_port': 443, 'https_certificate_filename': '/Users/alik/Applications/Aspera Connect.app/Contents/Resources/aspera_web_cert.pem', 'https_key_filename': '/Users/alik/Applications/Aspera Connect.app/Contents/Resources/aspera_web_key.pem', 'id': '6e1c4d13-f80a-4d14-810e-58925417f5fb', 'in_encryption_mode': False, 'in_http_fallback_mode': False, 'input': '{ \"aspera_connect_settings\" : { \"allow_dialogs\" : \"yes\", \"app_id\" : \"NzAwNzY0MDctYzI5Yy00Y2VjLWIyY2QtMDQ2ZmZjYTk4YjZk\", \"back_link\" : \"https://db.humanconnectome.org/app/action/ChooseDownloadPackages\", \"request_id\" : \"e8ac211d-a87f-4510-8ab9-ca774c9bfb4f\" }, \"tags\" : { \"aspera\" : { \"xfer_id\" : \"6e1c4d13-f80a-4d14-810e-58925417f5fb\", \"xfer_retry\" : 90 } }, \"transfer_spec\" : { \"authentication\" : \"token\", \"cipher\" : \"aes-128\", \"cookie\" : \"XDATUser=akhanf\", \"destination_root\" : \"\", \"direction\" : \"receive\", \"fasp_port\" : 33001, \"http_fallback\" : true, \"http_fallback_port\" : 443, \"min_rate_kbps\" : 0, \"paths\" : [ { \"source\" : \"packages/live/HCP_1200/100307/preproc/100307_3T_tfMRI_SOCIAL_preproc.zip\" }, { \"source\" : \"packages/live/HCP_1200/100307/preproc/100307_3T_tfMRI_SOCIAL_preproc.zip.md5\" } ], \"rate_policy\" : \"fair\", \"rate_policy_allowed\" : \"fixed\", \"remote_host\" : \"asp-connect1.wustl.edu\", \"remote_user\" : \"asperaxfer\", \"source_root\" : \"\", \"ssh_port\" : 33001, \"sshfp\" : null, \"tags\" : null, \"target_rate_kbps\" : 10000000 }, \"uuid\" : \"6e1c4d13-f80a-4d14-810e-58925417f5fb\" }', 'iteration_token': 116, 'manifest_file_path': '', 'micro_seconds_elapsed': 0, 'minimum_locked': False, 'minimum_rate': 0, 'minimum_rate_is_percentage': False, 'modified_time': 1589466371588, 'name': '', 'needs_setup': False, 'node_transfer_id': '', 'obfuscate_file_names': False, 'operation': 'pull', 'overwrite_policy': '', 'paths': [{'source': 'packages/live/HCP_1200/100307/preproc/100307_3T_tfMRI_SOCIAL_preproc.zip'}, {'source': 'packages/live/HCP_1200/100307/preproc/100307_3T_tfMRI_SOCIAL_preproc.zip.md5'}], 'paths_file': '/Users/alik/.aspera/connect/filelists/ibm aspera connect-6e1c4d13-f80a-4d14-810e-58925417f5fb/file-list.utf8', 'preserve_access_time': False, 'preserve_creation_time': False, 'preserve_modification_time': False, 'preserve_source_access_time': False, 'previous_state': 'new', 'progress': 0.0, 'rate_history': [], 'rate_policy': 'fair', 'rate_policy_allowed': 'fixed', 'rate_policy_locked': False, 'rate_priority': 2, 'resume_check': 'sparse', 'should_save_credentials': False, 'source_root': '', 'ssh_fp': '', 'start_time': 1589466362218, 'state': 'stopped', 'tags': {'aspera': {'xfer_id': '6e1c4d13-f80a-4d14-810e-58925417f5fb', 'xfer_retry': 90}}, 'target_rate': 10000000000, 'target_rate_is_percentage': False, 'target_rate_locked': False, 'token': 'ATM2_ACsf_5SngLPUy508rBUFIBo_wf4TFvO0LAl1sxiZwbz9-cAAI4AqIsQpq8008_Al9B5AMm_2MTA', 'transfer_mode': 'normal', 'type': 'normal', 'udp_port': 33001, 'use_absolute_destination_path': False, 'version': 2}\n"
     ]
    }
   ],
   "source": [
    "print(transfer_dict)"
   ]
  },
  {
   "cell_type": "code",
   "execution_count": null,
   "metadata": {},
   "outputs": [],
   "source": []
  }
 ],
 "metadata": {
  "kernelspec": {
   "display_name": "Python 3",
   "language": "python",
   "name": "python3"
  },
  "language_info": {
   "codemirror_mode": {
    "name": "ipython",
    "version": 3
   },
   "file_extension": ".py",
   "mimetype": "text/x-python",
   "name": "python",
   "nbconvert_exporter": "python",
   "pygments_lexer": "ipython3",
   "version": "3.7.6"
  }
 },
 "nbformat": 4,
 "nbformat_minor": 4
}
